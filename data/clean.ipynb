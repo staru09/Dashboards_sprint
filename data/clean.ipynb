{
 "cells": [
  {
   "cell_type": "markdown",
   "metadata": {},
   "source": [
    "# Swiggy Data Analysis Project"
   ]
  },
  {
   "cell_type": "code",
   "execution_count": 1,
   "metadata": {
    "execution": {
     "iopub.execute_input": "2025-07-16T18:06:15.876007Z",
     "iopub.status.busy": "2025-07-16T18:06:15.875736Z",
     "iopub.status.idle": "2025-07-16T18:06:21.654055Z",
     "shell.execute_reply": "2025-07-16T18:06:21.653223Z",
     "shell.execute_reply.started": "2025-07-16T18:06:15.875982Z"
    },
    "trusted": true
   },
   "outputs": [],
   "source": [
    "import pandas as pd\n",
    "import numpy as np\n",
    "import matplotlib.pyplot as plt\n",
    "%matplotlib inline\n",
    "import seaborn as sns\n",
    "import plotly.express as px\n",
    "import scipy.stats as st "
   ]
  },
  {
   "cell_type": "code",
   "execution_count": null,
   "metadata": {
    "execution": {
     "iopub.execute_input": "2025-07-16T18:09:54.782111Z",
     "iopub.status.busy": "2025-07-16T18:09:54.781873Z",
     "iopub.status.idle": "2025-07-16T18:11:57.331458Z",
     "shell.execute_reply": "2025-07-16T18:11:57.330746Z",
     "shell.execute_reply.started": "2025-07-16T18:09:54.782094Z"
    },
    "trusted": true
   },
   "outputs": [
    {
     "name": "stdout",
     "output_type": "stream",
     "text": [
      "  f_id                  item veg_or_non_veg\n",
      "0  fd0     Aloo Tikki Burger            Veg\n",
      "1  fd1     Veg Creamy Burger            Veg\n",
      "2  fd2   Cheese Burst Burger            Veg\n",
      "3  fd3  Paneer Creamy Burger            Veg\n",
      "4  fd4        Maxican Burger            Veg\n",
      "  menu_id    r_id      f_id           cuisine  price\n",
      "0     mn0  567335       fd0  Beverages,Pizzas   40.0\n",
      "1     mn0  567335  fd669322  Beverages,Pizzas   40.0\n",
      "2   mn328  158203       fd0         Beverages   65.0\n",
      "3   mn328  158203  fd669322         Beverages   65.0\n",
      "4   mn449  158203       fd0         Beverages   65.0\n",
      "  order_date  sales_qty  sales_amount currency  user_id      r_id\n",
      "0 2017-10-10        100         41241      INR    49226  567335.0\n",
      "1 2018-05-08          3            -1      INR    77359  531342.0\n",
      "2 2018-04-06          1           875      INR     5321  158203.0\n",
      "3 2018-04-11          1           583      INR    21343  187912.0\n",
      "4 2018-06-18          6          7176      INR    75378  543530.0\n",
      "     Order_Id     Type\n",
      "0  B496840219  Non-Veg\n",
      "1  C134461623    Other\n",
      "2  D679770099    Other\n",
      "3  E622201871      Veg\n",
      "4  A980473889  Non-Veg\n",
      "       id               name Country    city rating     rating_count  \\\n",
      "0  567335     AB FOODS POINT   India  Abohar     --  Too Few Ratings   \n",
      "1  531342  Janta Sweet House   India  Abohar    4.4      50+ ratings   \n",
      "2  158203  theka coffee desi   India  Abohar    3.8     100+ ratings   \n",
      "3  187912          Singh Hut   India  Abohar    3.7      20+ ratings   \n",
      "4  543530      GRILL MASTERS   India  Abohar     --  Too Few Ratings   \n",
      "\n",
      "                      cuisine  \\\n",
      "0            Beverages,Pizzas   \n",
      "1               Sweets,Bakery   \n",
      "2                   Beverages   \n",
      "3            Fast Food,Indian   \n",
      "4  Italian-American,Fast Food   \n",
      "\n",
      "                                                link  \\\n",
      "0  https://www.swiggy.com/restaurants/ab-foods-po...   \n",
      "1  https://www.swiggy.com/restaurants/janta-sweet...   \n",
      "2  https://www.swiggy.com/restaurants/theka-coffe...   \n",
      "3  https://www.swiggy.com/restaurants/singh-hut-n...   \n",
      "4  https://www.swiggy.com/restaurants/grill-maste...   \n",
      "\n",
      "                                             address  \n",
      "0  AB FOODS POINT, NEAR RISHI NARANG DENTAL CLINI...  \n",
      "1  Janta Sweet House, Bazar No.9, Circullar Road,...  \n",
      "2         theka coffee desi, sahtiya sadan road city  \n",
      "3    Singh Hut, CIRCULAR ROAD NEAR NEHRU PARK ABOHAR  \n",
      "4  GRILL MASTERS, ADA Heights, Abohar - Hanumanga...  \n",
      "   user_id               name  Age  Gender Marital Status Occupation\n",
      "0        1    Claire Ferguson   20  Female         Single    Student\n",
      "1        2     Jennifer Young   24  Female         Single    Student\n",
      "2        3  Jermaine Roberson   22    Male         Single    Student\n",
      "3        4   Rachel Carpenter   22  Female         Single    Student\n",
      "4        5       Shawn Parker   22    Male         Single    Student\n"
     ]
    }
   ],
   "source": [
    "import pandas as pd\n",
    "\n",
    "raw_data_dir = '/raw/'\n",
    "\n",
    "Food = pd.read_excel(raw_data_dir + 'food.xlsx')\n",
    "Menu = pd.read_excel(raw_data_dir + 'menu.xlsx')\n",
    "Orders = pd.read_excel(raw_data_dir + 'orders.xlsx')\n",
    "Orders_Type = pd.read_excel(raw_data_dir + 'orders_Type.xlsx')\n",
    "Restaurant = pd.read_excel(raw_data_dir + 'restaurant.xlsx')\n",
    "Users = pd.read_excel(raw_data_dir + 'users.xlsx')\n",
    "\n",
    "print(Food.head())\n",
    "print(Menu.head())\n",
    "print(Orders.head())\n",
    "print(Orders_Type.head())\n",
    "print(Restaurant.head())\n",
    "print(Users.head())"
   ]
  },
  {
   "cell_type": "markdown",
   "metadata": {},
   "source": [
    "# Initial Data Exploration"
   ]
  },
  {
   "cell_type": "code",
   "execution_count": 9,
   "metadata": {
    "execution": {
     "iopub.execute_input": "2025-07-16T18:12:51.637377Z",
     "iopub.status.busy": "2025-07-16T18:12:51.636585Z",
     "iopub.status.idle": "2025-07-16T18:12:51.644649Z",
     "shell.execute_reply": "2025-07-16T18:12:51.643804Z",
     "shell.execute_reply.started": "2025-07-16T18:12:51.637353Z"
    },
    "trusted": true
   },
   "outputs": [
    {
     "name": "stdout",
     "output_type": "stream",
     "text": [
      "f_id              object\n",
      "item              object\n",
      "veg_or_non_veg    object\n",
      "dtype: object \n",
      "\n",
      "menu_id     object\n",
      "r_id         int64\n",
      "f_id        object\n",
      "cuisine     object\n",
      "price      float64\n",
      "dtype: object \n",
      "\n",
      "order_date      datetime64[ns]\n",
      "sales_qty                int64\n",
      "sales_amount             int64\n",
      "currency                object\n",
      "user_id                  int64\n",
      "r_id                   float64\n",
      "dtype: object \n",
      "\n",
      "Order_Id    object\n",
      "Type        object\n",
      "dtype: object \n",
      "\n",
      "id               int64\n",
      "name            object\n",
      "Country         object\n",
      "city            object\n",
      "rating          object\n",
      "rating_count    object\n",
      "cuisine         object\n",
      "link            object\n",
      "address         object\n",
      "dtype: object \n",
      "\n",
      "user_id            int64\n",
      "name              object\n",
      "Age                int64\n",
      "Gender            object\n",
      "Marital Status    object\n",
      "Occupation        object\n",
      "dtype: object \n",
      "\n"
     ]
    }
   ],
   "source": [
    "Datasets = [Food, Menu, Orders, Orders_Type, Restaurant, Users]\n",
    "for i in Datasets:\n",
    "    print(i.dtypes, \"\\n\")"
   ]
  },
  {
   "cell_type": "markdown",
   "metadata": {},
   "source": [
    "# Check and Handle the Null Values"
   ]
  },
  {
   "cell_type": "code",
   "execution_count": 10,
   "metadata": {
    "execution": {
     "iopub.execute_input": "2025-07-16T18:12:58.069349Z",
     "iopub.status.busy": "2025-07-16T18:12:58.069066Z",
     "iopub.status.idle": "2025-07-16T18:12:58.141400Z",
     "shell.execute_reply": "2025-07-16T18:12:58.140772Z",
     "shell.execute_reply.started": "2025-07-16T18:12:58.069329Z"
    },
    "trusted": true
   },
   "outputs": [
    {
     "data": {
      "text/plain": [
       "f_id              8\n",
       "item              8\n",
       "veg_or_non_veg    8\n",
       "dtype: int64"
      ]
     },
     "execution_count": 10,
     "metadata": {},
     "output_type": "execute_result"
    }
   ],
   "source": [
    "Food.isnull().sum()"
   ]
  },
  {
   "cell_type": "code",
   "execution_count": 11,
   "metadata": {
    "execution": {
     "iopub.execute_input": "2025-07-16T18:13:06.270985Z",
     "iopub.status.busy": "2025-07-16T18:13:06.270487Z",
     "iopub.status.idle": "2025-07-16T18:13:06.316208Z",
     "shell.execute_reply": "2025-07-16T18:13:06.315664Z",
     "shell.execute_reply.started": "2025-07-16T18:13:06.270961Z"
    },
    "trusted": true
   },
   "outputs": [
    {
     "data": {
      "text/html": [
       "<div>\n",
       "<style scoped>\n",
       "    .dataframe tbody tr th:only-of-type {\n",
       "        vertical-align: middle;\n",
       "    }\n",
       "\n",
       "    .dataframe tbody tr th {\n",
       "        vertical-align: top;\n",
       "    }\n",
       "\n",
       "    .dataframe thead th {\n",
       "        text-align: right;\n",
       "    }\n",
       "</style>\n",
       "<table border=\"1\" class=\"dataframe\">\n",
       "  <thead>\n",
       "    <tr style=\"text-align: right;\">\n",
       "      <th></th>\n",
       "      <th>f_id</th>\n",
       "      <th>item</th>\n",
       "      <th>veg_or_non_veg</th>\n",
       "    </tr>\n",
       "  </thead>\n",
       "  <tbody>\n",
       "    <tr>\n",
       "      <th>13540</th>\n",
       "      <td>NaN</td>\n",
       "      <td>NaN</td>\n",
       "      <td>NaN</td>\n",
       "    </tr>\n",
       "    <tr>\n",
       "      <th>99966</th>\n",
       "      <td>NaN</td>\n",
       "      <td>NaN</td>\n",
       "      <td>NaN</td>\n",
       "    </tr>\n",
       "    <tr>\n",
       "      <th>99988</th>\n",
       "      <td>NaN</td>\n",
       "      <td>NaN</td>\n",
       "      <td>NaN</td>\n",
       "    </tr>\n",
       "    <tr>\n",
       "      <th>99989</th>\n",
       "      <td>NaN</td>\n",
       "      <td>NaN</td>\n",
       "      <td>NaN</td>\n",
       "    </tr>\n",
       "    <tr>\n",
       "      <th>99991</th>\n",
       "      <td>NaN</td>\n",
       "      <td>NaN</td>\n",
       "      <td>NaN</td>\n",
       "    </tr>\n",
       "    <tr>\n",
       "      <th>99993</th>\n",
       "      <td>NaN</td>\n",
       "      <td>NaN</td>\n",
       "      <td>NaN</td>\n",
       "    </tr>\n",
       "    <tr>\n",
       "      <th>99994</th>\n",
       "      <td>NaN</td>\n",
       "      <td>NaN</td>\n",
       "      <td>NaN</td>\n",
       "    </tr>\n",
       "    <tr>\n",
       "      <th>166711</th>\n",
       "      <td>NaN</td>\n",
       "      <td>NaN</td>\n",
       "      <td>NaN</td>\n",
       "    </tr>\n",
       "  </tbody>\n",
       "</table>\n",
       "</div>"
      ],
      "text/plain": [
       "       f_id item veg_or_non_veg\n",
       "13540   NaN  NaN            NaN\n",
       "99966   NaN  NaN            NaN\n",
       "99988   NaN  NaN            NaN\n",
       "99989   NaN  NaN            NaN\n",
       "99991   NaN  NaN            NaN\n",
       "99993   NaN  NaN            NaN\n",
       "99994   NaN  NaN            NaN\n",
       "166711  NaN  NaN            NaN"
      ]
     },
     "execution_count": 11,
     "metadata": {},
     "output_type": "execute_result"
    }
   ],
   "source": [
    "Food[Food[\"f_id\"].isnull()]"
   ]
  },
  {
   "cell_type": "code",
   "execution_count": 12,
   "metadata": {
    "execution": {
     "iopub.execute_input": "2025-07-16T18:13:20.149372Z",
     "iopub.status.busy": "2025-07-16T18:13:20.148695Z",
     "iopub.status.idle": "2025-07-16T18:13:20.253470Z",
     "shell.execute_reply": "2025-07-16T18:13:20.252728Z",
     "shell.execute_reply.started": "2025-07-16T18:13:20.149347Z"
    },
    "trusted": true
   },
   "outputs": [],
   "source": [
    "Food.dropna(inplace=True)"
   ]
  },
  {
   "cell_type": "code",
   "execution_count": 13,
   "metadata": {
    "execution": {
     "iopub.execute_input": "2025-07-16T18:13:31.311157Z",
     "iopub.status.busy": "2025-07-16T18:13:31.310445Z",
     "iopub.status.idle": "2025-07-16T18:13:31.463304Z",
     "shell.execute_reply": "2025-07-16T18:13:31.462733Z",
     "shell.execute_reply.started": "2025-07-16T18:13:31.311132Z"
    },
    "trusted": true
   },
   "outputs": [
    {
     "data": {
      "text/plain": [
       "menu_id    0\n",
       "r_id       0\n",
       "f_id       0\n",
       "cuisine    0\n",
       "price      1\n",
       "dtype: int64"
      ]
     },
     "execution_count": 13,
     "metadata": {},
     "output_type": "execute_result"
    }
   ],
   "source": [
    "Menu.isnull().sum()"
   ]
  },
  {
   "cell_type": "code",
   "execution_count": 14,
   "metadata": {
    "execution": {
     "iopub.execute_input": "2025-07-16T18:13:39.941219Z",
     "iopub.status.busy": "2025-07-16T18:13:39.940743Z",
     "iopub.status.idle": "2025-07-16T18:13:39.983270Z",
     "shell.execute_reply": "2025-07-16T18:13:39.982604Z",
     "shell.execute_reply.started": "2025-07-16T18:13:39.941198Z"
    },
    "trusted": true
   },
   "outputs": [
    {
     "name": "stderr",
     "output_type": "stream",
     "text": [
      "/usr/local/lib/python3.11/dist-packages/pandas/io/formats/format.py:1458: RuntimeWarning: invalid value encountered in greater\n",
      "  has_large_values = (abs_vals > 1e6).any()\n",
      "/usr/local/lib/python3.11/dist-packages/pandas/io/formats/format.py:1459: RuntimeWarning: invalid value encountered in less\n",
      "  has_small_values = ((abs_vals < 10 ** (-self.digits)) & (abs_vals > 0)).any()\n",
      "/usr/local/lib/python3.11/dist-packages/pandas/io/formats/format.py:1459: RuntimeWarning: invalid value encountered in greater\n",
      "  has_small_values = ((abs_vals < 10 ** (-self.digits)) & (abs_vals > 0)).any()\n"
     ]
    },
    {
     "data": {
      "text/html": [
       "<div>\n",
       "<style scoped>\n",
       "    .dataframe tbody tr th:only-of-type {\n",
       "        vertical-align: middle;\n",
       "    }\n",
       "\n",
       "    .dataframe tbody tr th {\n",
       "        vertical-align: top;\n",
       "    }\n",
       "\n",
       "    .dataframe thead th {\n",
       "        text-align: right;\n",
       "    }\n",
       "</style>\n",
       "<table border=\"1\" class=\"dataframe\">\n",
       "  <thead>\n",
       "    <tr style=\"text-align: right;\">\n",
       "      <th></th>\n",
       "      <th>menu_id</th>\n",
       "      <th>r_id</th>\n",
       "      <th>f_id</th>\n",
       "      <th>cuisine</th>\n",
       "      <th>price</th>\n",
       "    </tr>\n",
       "  </thead>\n",
       "  <tbody>\n",
       "    <tr>\n",
       "      <th>878051</th>\n",
       "      <td>mn414862</td>\n",
       "      <td>496987</td>\n",
       "      <td>fd413746</td>\n",
       "      <td>South Indian</td>\n",
       "      <td>NaN</td>\n",
       "    </tr>\n",
       "  </tbody>\n",
       "</table>\n",
       "</div>"
      ],
      "text/plain": [
       "         menu_id    r_id      f_id       cuisine  price\n",
       "878051  mn414862  496987  fd413746  South Indian    NaN"
      ]
     },
     "execution_count": 14,
     "metadata": {},
     "output_type": "execute_result"
    }
   ],
   "source": [
    "Menu[Menu[\"price\"].isnull()]"
   ]
  },
  {
   "cell_type": "code",
   "execution_count": 15,
   "metadata": {
    "execution": {
     "iopub.execute_input": "2025-07-16T18:13:48.419769Z",
     "iopub.status.busy": "2025-07-16T18:13:48.419133Z",
     "iopub.status.idle": "2025-07-16T18:13:48.643630Z",
     "shell.execute_reply": "2025-07-16T18:13:48.642891Z",
     "shell.execute_reply.started": "2025-07-16T18:13:48.419746Z"
    },
    "trusted": true
   },
   "outputs": [],
   "source": [
    "Menu.dropna(inplace=True)"
   ]
  },
  {
   "cell_type": "code",
   "execution_count": 16,
   "metadata": {
    "execution": {
     "iopub.execute_input": "2025-07-16T18:13:54.714021Z",
     "iopub.status.busy": "2025-07-16T18:13:54.713338Z",
     "iopub.status.idle": "2025-07-16T18:13:54.728328Z",
     "shell.execute_reply": "2025-07-16T18:13:54.727657Z",
     "shell.execute_reply.started": "2025-07-16T18:13:54.713998Z"
    },
    "trusted": true
   },
   "outputs": [
    {
     "data": {
      "text/plain": [
       "order_date         0\n",
       "sales_qty          0\n",
       "sales_amount       0\n",
       "currency           0\n",
       "user_id            0\n",
       "r_id            1617\n",
       "dtype: int64"
      ]
     },
     "execution_count": 16,
     "metadata": {},
     "output_type": "execute_result"
    }
   ],
   "source": [
    "Orders.isnull().sum()"
   ]
  },
  {
   "cell_type": "code",
   "execution_count": 20,
   "metadata": {
    "execution": {
     "iopub.execute_input": "2025-07-16T18:14:34.974027Z",
     "iopub.status.busy": "2025-07-16T18:14:34.973672Z",
     "iopub.status.idle": "2025-07-16T18:14:35.044901Z",
     "shell.execute_reply": "2025-07-16T18:14:35.044248Z",
     "shell.execute_reply.started": "2025-07-16T18:14:34.974005Z"
    },
    "trusted": true
   },
   "outputs": [
    {
     "data": {
      "text/plain": [
       "id               0\n",
       "name            86\n",
       "Country          0\n",
       "city             0\n",
       "rating          86\n",
       "rating_count    86\n",
       "cuisine         99\n",
       "link             0\n",
       "address         86\n",
       "dtype: int64"
      ]
     },
     "execution_count": 20,
     "metadata": {},
     "output_type": "execute_result"
    }
   ],
   "source": [
    "Restaurant.isnull().sum()"
   ]
  },
  {
   "cell_type": "code",
   "execution_count": 21,
   "metadata": {
    "execution": {
     "iopub.execute_input": "2025-07-16T18:15:08.503162Z",
     "iopub.status.busy": "2025-07-16T18:15:08.502604Z",
     "iopub.status.idle": "2025-07-16T18:15:08.527606Z",
     "shell.execute_reply": "2025-07-16T18:15:08.527008Z",
     "shell.execute_reply.started": "2025-07-16T18:15:08.503139Z"
    },
    "trusted": true
   },
   "outputs": [
    {
     "data": {
      "text/html": [
       "<div>\n",
       "<style scoped>\n",
       "    .dataframe tbody tr th:only-of-type {\n",
       "        vertical-align: middle;\n",
       "    }\n",
       "\n",
       "    .dataframe tbody tr th {\n",
       "        vertical-align: top;\n",
       "    }\n",
       "\n",
       "    .dataframe thead th {\n",
       "        text-align: right;\n",
       "    }\n",
       "</style>\n",
       "<table border=\"1\" class=\"dataframe\">\n",
       "  <thead>\n",
       "    <tr style=\"text-align: right;\">\n",
       "      <th></th>\n",
       "      <th>id</th>\n",
       "      <th>name</th>\n",
       "      <th>Country</th>\n",
       "      <th>city</th>\n",
       "      <th>rating</th>\n",
       "      <th>rating_count</th>\n",
       "      <th>cuisine</th>\n",
       "      <th>link</th>\n",
       "      <th>address</th>\n",
       "    </tr>\n",
       "  </thead>\n",
       "  <tbody>\n",
       "    <tr>\n",
       "      <th>31044</th>\n",
       "      <td>397961</td>\n",
       "      <td>NaN</td>\n",
       "      <td>India</td>\n",
       "      <td>Greater Mohali,Chandigarh</td>\n",
       "      <td>NaN</td>\n",
       "      <td>NaN</td>\n",
       "      <td>NaN</td>\n",
       "      <td>https://www.swiggy.com/restaurants/5-tara-grea...</td>\n",
       "      <td>NaN</td>\n",
       "    </tr>\n",
       "    <tr>\n",
       "      <th>32912</th>\n",
       "      <td>308071</td>\n",
       "      <td>NaN</td>\n",
       "      <td>India</td>\n",
       "      <td>West Chd,Chandigarh</td>\n",
       "      <td>NaN</td>\n",
       "      <td>NaN</td>\n",
       "      <td>NaN</td>\n",
       "      <td>https://www.swiggy.com/restaurants/food-under-...</td>\n",
       "      <td>NaN</td>\n",
       "    </tr>\n",
       "    <tr>\n",
       "      <th>33046</th>\n",
       "      <td>308662</td>\n",
       "      <td>NaN</td>\n",
       "      <td>India</td>\n",
       "      <td>West Chd,Chandigarh</td>\n",
       "      <td>NaN</td>\n",
       "      <td>NaN</td>\n",
       "      <td>NaN</td>\n",
       "      <td>https://www.swiggy.com/restaurants/franks-frie...</td>\n",
       "      <td>NaN</td>\n",
       "    </tr>\n",
       "    <tr>\n",
       "      <th>33488</th>\n",
       "      <td>170889</td>\n",
       "      <td>NaN</td>\n",
       "      <td>India</td>\n",
       "      <td>South Chd,Chandigarh</td>\n",
       "      <td>NaN</td>\n",
       "      <td>NaN</td>\n",
       "      <td>NaN</td>\n",
       "      <td>https://www.swiggy.com/restaurants/dhaba-7-pre...</td>\n",
       "      <td>NaN</td>\n",
       "    </tr>\n",
       "    <tr>\n",
       "      <th>36492</th>\n",
       "      <td>390394</td>\n",
       "      <td>NaN</td>\n",
       "      <td>India</td>\n",
       "      <td>George Town,Chennai</td>\n",
       "      <td>NaN</td>\n",
       "      <td>NaN</td>\n",
       "      <td>NaN</td>\n",
       "      <td>https://www.swiggy.com/restaurants/frozen-cafe...</td>\n",
       "      <td>NaN</td>\n",
       "    </tr>\n",
       "  </tbody>\n",
       "</table>\n",
       "</div>"
      ],
      "text/plain": [
       "           id name Country                       city rating rating_count  \\\n",
       "31044  397961  NaN   India  Greater Mohali,Chandigarh    NaN          NaN   \n",
       "32912  308071  NaN   India        West Chd,Chandigarh    NaN          NaN   \n",
       "33046  308662  NaN   India        West Chd,Chandigarh    NaN          NaN   \n",
       "33488  170889  NaN   India       South Chd,Chandigarh    NaN          NaN   \n",
       "36492  390394  NaN   India        George Town,Chennai    NaN          NaN   \n",
       "\n",
       "      cuisine                                               link address  \n",
       "31044     NaN  https://www.swiggy.com/restaurants/5-tara-grea...     NaN  \n",
       "32912     NaN  https://www.swiggy.com/restaurants/food-under-...     NaN  \n",
       "33046     NaN  https://www.swiggy.com/restaurants/franks-frie...     NaN  \n",
       "33488     NaN  https://www.swiggy.com/restaurants/dhaba-7-pre...     NaN  \n",
       "36492     NaN  https://www.swiggy.com/restaurants/frozen-cafe...     NaN  "
      ]
     },
     "execution_count": 21,
     "metadata": {},
     "output_type": "execute_result"
    }
   ],
   "source": [
    "Restaurant[Restaurant[\"name\"].isnull()].head()"
   ]
  },
  {
   "cell_type": "code",
   "execution_count": 22,
   "metadata": {
    "execution": {
     "iopub.execute_input": "2025-07-16T18:15:43.116306Z",
     "iopub.status.busy": "2025-07-16T18:15:43.115959Z",
     "iopub.status.idle": "2025-07-16T18:15:43.136485Z",
     "shell.execute_reply": "2025-07-16T18:15:43.135588Z",
     "shell.execute_reply.started": "2025-07-16T18:15:43.116285Z"
    },
    "trusted": true
   },
   "outputs": [
    {
     "data": {
      "text/plain": [
       "31044     397961\n",
       "32912     308071\n",
       "33046     308662\n",
       "33488     170889\n",
       "36492     390394\n",
       "           ...  \n",
       "137121    256827\n",
       "137545    567595\n",
       "137613    116615\n",
       "138379    401760\n",
       "141567    463812\n",
       "Name: id, Length: 86, dtype: int64"
      ]
     },
     "execution_count": 22,
     "metadata": {},
     "output_type": "execute_result"
    }
   ],
   "source": [
    "Null_Restaurant_id = Restaurant[Restaurant[\"name\"].isnull()][\"id\"]\n",
    "Null_Restaurant_id"
   ]
  },
  {
   "cell_type": "code",
   "execution_count": 23,
   "metadata": {
    "execution": {
     "iopub.execute_input": "2025-07-16T18:15:48.551561Z",
     "iopub.status.busy": "2025-07-16T18:15:48.551295Z",
     "iopub.status.idle": "2025-07-16T18:15:48.556675Z",
     "shell.execute_reply": "2025-07-16T18:15:48.555830Z",
     "shell.execute_reply.started": "2025-07-16T18:15:48.551541Z"
    },
    "trusted": true
   },
   "outputs": [
    {
     "data": {
      "text/plain": [
       "86"
      ]
     },
     "execution_count": 23,
     "metadata": {},
     "output_type": "execute_result"
    }
   ],
   "source": [
    "Count_of_Null_Rest = len(Null_Restaurant_id)\n",
    "Count_of_Null_Rest"
   ]
  },
  {
   "cell_type": "code",
   "execution_count": 24,
   "metadata": {
    "execution": {
     "iopub.execute_input": "2025-07-16T18:15:51.770260Z",
     "iopub.status.busy": "2025-07-16T18:15:51.769494Z",
     "iopub.status.idle": "2025-07-16T18:15:51.795727Z",
     "shell.execute_reply": "2025-07-16T18:15:51.795105Z",
     "shell.execute_reply.started": "2025-07-16T18:15:51.770236Z"
    },
    "trusted": true
   },
   "outputs": [
    {
     "data": {
      "text/html": [
       "<div>\n",
       "<style scoped>\n",
       "    .dataframe tbody tr th:only-of-type {\n",
       "        vertical-align: middle;\n",
       "    }\n",
       "\n",
       "    .dataframe tbody tr th {\n",
       "        vertical-align: top;\n",
       "    }\n",
       "\n",
       "    .dataframe thead th {\n",
       "        text-align: right;\n",
       "    }\n",
       "</style>\n",
       "<table border=\"1\" class=\"dataframe\">\n",
       "  <thead>\n",
       "    <tr style=\"text-align: right;\">\n",
       "      <th></th>\n",
       "      <th>order_date</th>\n",
       "      <th>sales_qty</th>\n",
       "      <th>sales_amount</th>\n",
       "      <th>currency</th>\n",
       "      <th>user_id</th>\n",
       "      <th>r_id</th>\n",
       "    </tr>\n",
       "  </thead>\n",
       "  <tbody>\n",
       "    <tr>\n",
       "      <th>31044</th>\n",
       "      <td>2019-11-12</td>\n",
       "      <td>1</td>\n",
       "      <td>79</td>\n",
       "      <td>INR</td>\n",
       "      <td>76969</td>\n",
       "      <td>397961.0</td>\n",
       "    </tr>\n",
       "    <tr>\n",
       "      <th>32912</th>\n",
       "      <td>2020-01-13</td>\n",
       "      <td>1</td>\n",
       "      <td>65</td>\n",
       "      <td>INR</td>\n",
       "      <td>66468</td>\n",
       "      <td>308071.0</td>\n",
       "    </tr>\n",
       "    <tr>\n",
       "      <th>33046</th>\n",
       "      <td>2020-05-28</td>\n",
       "      <td>2</td>\n",
       "      <td>431</td>\n",
       "      <td>INR</td>\n",
       "      <td>81350</td>\n",
       "      <td>308662.0</td>\n",
       "    </tr>\n",
       "    <tr>\n",
       "      <th>33488</th>\n",
       "      <td>2018-05-02</td>\n",
       "      <td>2</td>\n",
       "      <td>463</td>\n",
       "      <td>INR</td>\n",
       "      <td>76025</td>\n",
       "      <td>170889.0</td>\n",
       "    </tr>\n",
       "    <tr>\n",
       "      <th>36492</th>\n",
       "      <td>2018-11-16</td>\n",
       "      <td>1</td>\n",
       "      <td>46</td>\n",
       "      <td>INR</td>\n",
       "      <td>49014</td>\n",
       "      <td>390394.0</td>\n",
       "    </tr>\n",
       "  </tbody>\n",
       "</table>\n",
       "</div>"
      ],
      "text/plain": [
       "      order_date  sales_qty  sales_amount currency  user_id      r_id\n",
       "31044 2019-11-12          1            79      INR    76969  397961.0\n",
       "32912 2020-01-13          1            65      INR    66468  308071.0\n",
       "33046 2020-05-28          2           431      INR    81350  308662.0\n",
       "33488 2018-05-02          2           463      INR    76025  170889.0\n",
       "36492 2018-11-16          1            46      INR    49014  390394.0"
      ]
     },
     "execution_count": 24,
     "metadata": {},
     "output_type": "execute_result"
    }
   ],
   "source": [
    "Orders[Orders[\"r_id\"].isin(Null_Restaurant_id)].head()"
   ]
  },
  {
   "cell_type": "code",
   "execution_count": 25,
   "metadata": {
    "execution": {
     "iopub.execute_input": "2025-07-16T18:16:03.563145Z",
     "iopub.status.busy": "2025-07-16T18:16:03.562907Z",
     "iopub.status.idle": "2025-07-16T18:16:03.605065Z",
     "shell.execute_reply": "2025-07-16T18:16:03.604533Z",
     "shell.execute_reply.started": "2025-07-16T18:16:03.563130Z"
    },
    "trusted": true
   },
   "outputs": [],
   "source": [
    "Restaurant.dropna(subset=\"name\",inplace=True)"
   ]
  },
  {
   "cell_type": "code",
   "execution_count": 26,
   "metadata": {
    "execution": {
     "iopub.execute_input": "2025-07-16T18:16:10.540715Z",
     "iopub.status.busy": "2025-07-16T18:16:10.540467Z",
     "iopub.status.idle": "2025-07-16T18:16:10.545737Z",
     "shell.execute_reply": "2025-07-16T18:16:10.545152Z",
     "shell.execute_reply.started": "2025-07-16T18:16:10.540698Z"
    },
    "trusted": true
   },
   "outputs": [
    {
     "data": {
      "text/plain": [
       "148454"
      ]
     },
     "execution_count": 26,
     "metadata": {},
     "output_type": "execute_result"
    }
   ],
   "source": [
    "len(Restaurant)"
   ]
  },
  {
   "cell_type": "code",
   "execution_count": 28,
   "metadata": {
    "execution": {
     "iopub.execute_input": "2025-07-16T18:16:25.954182Z",
     "iopub.status.busy": "2025-07-16T18:16:25.953632Z",
     "iopub.status.idle": "2025-07-16T18:16:25.970551Z",
     "shell.execute_reply": "2025-07-16T18:16:25.969839Z",
     "shell.execute_reply.started": "2025-07-16T18:16:25.954159Z"
    },
    "trusted": true
   },
   "outputs": [
    {
     "data": {
      "text/html": [
       "<div>\n",
       "<style scoped>\n",
       "    .dataframe tbody tr th:only-of-type {\n",
       "        vertical-align: middle;\n",
       "    }\n",
       "\n",
       "    .dataframe tbody tr th {\n",
       "        vertical-align: top;\n",
       "    }\n",
       "\n",
       "    .dataframe thead th {\n",
       "        text-align: right;\n",
       "    }\n",
       "</style>\n",
       "<table border=\"1\" class=\"dataframe\">\n",
       "  <thead>\n",
       "    <tr style=\"text-align: right;\">\n",
       "      <th></th>\n",
       "      <th>id</th>\n",
       "      <th>name</th>\n",
       "      <th>Country</th>\n",
       "      <th>city</th>\n",
       "      <th>rating</th>\n",
       "      <th>rating_count</th>\n",
       "      <th>cuisine</th>\n",
       "      <th>link</th>\n",
       "      <th>address</th>\n",
       "    </tr>\n",
       "  </thead>\n",
       "  <tbody>\n",
       "    <tr>\n",
       "      <th>47768</th>\n",
       "      <td>155151</td>\n",
       "      <td>Pocket Plates By Abongchiiz</td>\n",
       "      <td>India</td>\n",
       "      <td>GTB Nagar,Delhi</td>\n",
       "      <td>--</td>\n",
       "      <td>Too Few Ratings</td>\n",
       "      <td>NaN</td>\n",
       "      <td>https://www.swiggy.com/restaurants/pocket-plat...</td>\n",
       "      <td>Pocket Plates By Abongchiiz, SHOP NO-15 DDA MA...</td>\n",
       "    </tr>\n",
       "    <tr>\n",
       "      <th>51698</th>\n",
       "      <td>245476</td>\n",
       "      <td>NEW YORK WAFFLES &amp; DINGES</td>\n",
       "      <td>India</td>\n",
       "      <td>Greater Kailash 2,Delhi</td>\n",
       "      <td>--</td>\n",
       "      <td>Too Few Ratings</td>\n",
       "      <td>NaN</td>\n",
       "      <td>https://www.swiggy.com/restaurants/new-york-wa...</td>\n",
       "      <td>NEW YORK WAFFLES &amp; DINGES, A 6 KAILASH COLONY,...</td>\n",
       "    </tr>\n",
       "    <tr>\n",
       "      <th>52218</th>\n",
       "      <td>62718</td>\n",
       "      <td>34 Chowringhee Lane</td>\n",
       "      <td>India</td>\n",
       "      <td>Ashok Vihar,Delhi</td>\n",
       "      <td>3.6</td>\n",
       "      <td>100+ ratings</td>\n",
       "      <td>NaN</td>\n",
       "      <td>https://www.swiggy.com/restaurants/34-chowring...</td>\n",
       "      <td>34 Chowringhee Lane, Shop no. 2, Phase 1, J bl...</td>\n",
       "    </tr>\n",
       "    <tr>\n",
       "      <th>52515</th>\n",
       "      <td>349965</td>\n",
       "      <td>TRP-Tandoor Roll Paratha</td>\n",
       "      <td>India</td>\n",
       "      <td>South Extension,Delhi</td>\n",
       "      <td>--</td>\n",
       "      <td>Too Few Ratings</td>\n",
       "      <td>NaN</td>\n",
       "      <td>https://www.swiggy.com/restaurants/trp-tandoor...</td>\n",
       "      <td>TRP-Tandoor Roll Paratha, D-59, Panchsheel Enc...</td>\n",
       "    </tr>\n",
       "    <tr>\n",
       "      <th>57165</th>\n",
       "      <td>319007</td>\n",
       "      <td>Kathi Roll Point</td>\n",
       "      <td>India</td>\n",
       "      <td>Lajpat Nagar,Delhi</td>\n",
       "      <td>--</td>\n",
       "      <td>Too Few Ratings</td>\n",
       "      <td>NaN</td>\n",
       "      <td>https://www.swiggy.com/restaurants/kathi-roll-...</td>\n",
       "      <td>Kathi Roll Point, SHOP NO.42,NEHRU NAGAR NEW D...</td>\n",
       "    </tr>\n",
       "  </tbody>\n",
       "</table>\n",
       "</div>"
      ],
      "text/plain": [
       "           id                         name Country                     city  \\\n",
       "47768  155151  Pocket Plates By Abongchiiz   India          GTB Nagar,Delhi   \n",
       "51698  245476    NEW YORK WAFFLES & DINGES   India  Greater Kailash 2,Delhi   \n",
       "52218   62718          34 Chowringhee Lane   India        Ashok Vihar,Delhi   \n",
       "52515  349965     TRP-Tandoor Roll Paratha   India    South Extension,Delhi   \n",
       "57165  319007             Kathi Roll Point   India       Lajpat Nagar,Delhi   \n",
       "\n",
       "      rating     rating_count cuisine  \\\n",
       "47768     --  Too Few Ratings     NaN   \n",
       "51698     --  Too Few Ratings     NaN   \n",
       "52218    3.6     100+ ratings     NaN   \n",
       "52515     --  Too Few Ratings     NaN   \n",
       "57165     --  Too Few Ratings     NaN   \n",
       "\n",
       "                                                    link  \\\n",
       "47768  https://www.swiggy.com/restaurants/pocket-plat...   \n",
       "51698  https://www.swiggy.com/restaurants/new-york-wa...   \n",
       "52218  https://www.swiggy.com/restaurants/34-chowring...   \n",
       "52515  https://www.swiggy.com/restaurants/trp-tandoor...   \n",
       "57165  https://www.swiggy.com/restaurants/kathi-roll-...   \n",
       "\n",
       "                                                 address  \n",
       "47768  Pocket Plates By Abongchiiz, SHOP NO-15 DDA MA...  \n",
       "51698  NEW YORK WAFFLES & DINGES, A 6 KAILASH COLONY,...  \n",
       "52218  34 Chowringhee Lane, Shop no. 2, Phase 1, J bl...  \n",
       "52515  TRP-Tandoor Roll Paratha, D-59, Panchsheel Enc...  \n",
       "57165  Kathi Roll Point, SHOP NO.42,NEHRU NAGAR NEW D...  "
      ]
     },
     "execution_count": 28,
     "metadata": {},
     "output_type": "execute_result"
    }
   ],
   "source": [
    "Restaurant[Restaurant[\"cuisine\"].isnull()].head()"
   ]
  },
  {
   "cell_type": "code",
   "execution_count": 29,
   "metadata": {
    "execution": {
     "iopub.execute_input": "2025-07-16T18:16:29.769660Z",
     "iopub.status.busy": "2025-07-16T18:16:29.769410Z",
     "iopub.status.idle": "2025-07-16T18:16:29.779153Z",
     "shell.execute_reply": "2025-07-16T18:16:29.778486Z",
     "shell.execute_reply.started": "2025-07-16T18:16:29.769642Z"
    },
    "trusted": true
   },
   "outputs": [
    {
     "data": {
      "text/plain": [
       "2132"
      ]
     },
     "execution_count": 29,
     "metadata": {},
     "output_type": "execute_result"
    }
   ],
   "source": [
    "Restaurant[\"cuisine\"].nunique()"
   ]
  },
  {
   "cell_type": "code",
   "execution_count": 30,
   "metadata": {
    "execution": {
     "iopub.execute_input": "2025-07-16T18:16:34.955362Z",
     "iopub.status.busy": "2025-07-16T18:16:34.954576Z",
     "iopub.status.idle": "2025-07-16T18:16:34.969484Z",
     "shell.execute_reply": "2025-07-16T18:16:34.968852Z",
     "shell.execute_reply.started": "2025-07-16T18:16:34.955334Z"
    },
    "trusted": true
   },
   "outputs": [
    {
     "data": {
      "text/plain": [
       "0    North Indian,Chinese\n",
       "Name: cuisine, dtype: object"
      ]
     },
     "execution_count": 30,
     "metadata": {},
     "output_type": "execute_result"
    }
   ],
   "source": [
    "Most_Repeated_Cuisine = Restaurant[\"cuisine\"].mode()\n",
    "Most_Repeated_Cuisine"
   ]
  },
  {
   "cell_type": "code",
   "execution_count": 40,
   "metadata": {},
   "outputs": [
    {
     "data": {
      "text/plain": [
       "6471"
      ]
     },
     "execution_count": 40,
     "metadata": {},
     "output_type": "execute_result"
    }
   ],
   "source": [
    "len(Restaurant[Restaurant[\"cuisine\"].isin(Most_Repeated_Cuisine ) ])"
   ]
  },
  {
   "cell_type": "code",
   "execution_count": 31,
   "metadata": {
    "execution": {
     "iopub.execute_input": "2025-07-16T18:16:50.244242Z",
     "iopub.status.busy": "2025-07-16T18:16:50.243476Z",
     "iopub.status.idle": "2025-07-16T18:16:50.261655Z",
     "shell.execute_reply": "2025-07-16T18:16:50.260913Z",
     "shell.execute_reply.started": "2025-07-16T18:16:50.244209Z"
    },
    "trusted": true
   },
   "outputs": [
    {
     "name": "stderr",
     "output_type": "stream",
     "text": [
      "/tmp/ipykernel_36/1981323510.py:1: FutureWarning: A value is trying to be set on a copy of a DataFrame or Series through chained assignment using an inplace method.\n",
      "The behavior will change in pandas 3.0. This inplace method will never work because the intermediate object on which we are setting values always behaves as a copy.\n",
      "\n",
      "For example, when doing 'df[col].method(value, inplace=True)', try using 'df.method({col: value}, inplace=True)' or df[col] = df[col].method(value) instead, to perform the operation inplace on the original object.\n",
      "\n",
      "\n",
      "  Restaurant[\"cuisine\"].fillna(Most_Repeated_Cuisine[0], inplace=True)\n"
     ]
    }
   ],
   "source": [
    "Restaurant[\"cuisine\"].fillna(Most_Repeated_Cuisine[0], inplace=True)"
   ]
  },
  {
   "cell_type": "code",
   "execution_count": 32,
   "metadata": {
    "execution": {
     "iopub.execute_input": "2025-07-16T18:16:56.327194Z",
     "iopub.status.busy": "2025-07-16T18:16:56.326939Z",
     "iopub.status.idle": "2025-07-16T18:16:56.337407Z",
     "shell.execute_reply": "2025-07-16T18:16:56.336665Z",
     "shell.execute_reply.started": "2025-07-16T18:16:56.327177Z"
    },
    "trusted": true
   },
   "outputs": [
    {
     "data": {
      "text/html": [
       "<div>\n",
       "<style scoped>\n",
       "    .dataframe tbody tr th:only-of-type {\n",
       "        vertical-align: middle;\n",
       "    }\n",
       "\n",
       "    .dataframe tbody tr th {\n",
       "        vertical-align: top;\n",
       "    }\n",
       "\n",
       "    .dataframe thead th {\n",
       "        text-align: right;\n",
       "    }\n",
       "</style>\n",
       "<table border=\"1\" class=\"dataframe\">\n",
       "  <thead>\n",
       "    <tr style=\"text-align: right;\">\n",
       "      <th></th>\n",
       "      <th>id</th>\n",
       "      <th>name</th>\n",
       "      <th>Country</th>\n",
       "      <th>city</th>\n",
       "      <th>rating</th>\n",
       "      <th>rating_count</th>\n",
       "      <th>cuisine</th>\n",
       "      <th>link</th>\n",
       "      <th>address</th>\n",
       "    </tr>\n",
       "  </thead>\n",
       "  <tbody>\n",
       "    <tr>\n",
       "      <th>47768</th>\n",
       "      <td>155151</td>\n",
       "      <td>Pocket Plates By Abongchiiz</td>\n",
       "      <td>India</td>\n",
       "      <td>GTB Nagar,Delhi</td>\n",
       "      <td>--</td>\n",
       "      <td>Too Few Ratings</td>\n",
       "      <td>North Indian,Chinese</td>\n",
       "      <td>https://www.swiggy.com/restaurants/pocket-plat...</td>\n",
       "      <td>Pocket Plates By Abongchiiz, SHOP NO-15 DDA MA...</td>\n",
       "    </tr>\n",
       "  </tbody>\n",
       "</table>\n",
       "</div>"
      ],
      "text/plain": [
       "           id                         name Country             city rating  \\\n",
       "47768  155151  Pocket Plates By Abongchiiz   India  GTB Nagar,Delhi     --   \n",
       "\n",
       "          rating_count               cuisine  \\\n",
       "47768  Too Few Ratings  North Indian,Chinese   \n",
       "\n",
       "                                                    link  \\\n",
       "47768  https://www.swiggy.com/restaurants/pocket-plat...   \n",
       "\n",
       "                                                 address  \n",
       "47768  Pocket Plates By Abongchiiz, SHOP NO-15 DDA MA...  "
      ]
     },
     "execution_count": 32,
     "metadata": {},
     "output_type": "execute_result"
    }
   ],
   "source": [
    "Restaurant[Restaurant[\"id\"] == 155151]"
   ]
  },
  {
   "cell_type": "code",
   "execution_count": 33,
   "metadata": {
    "execution": {
     "iopub.execute_input": "2025-07-16T18:17:02.886816Z",
     "iopub.status.busy": "2025-07-16T18:17:02.886025Z",
     "iopub.status.idle": "2025-07-16T18:17:02.958436Z",
     "shell.execute_reply": "2025-07-16T18:17:02.957728Z",
     "shell.execute_reply.started": "2025-07-16T18:17:02.886792Z"
    },
    "trusted": true
   },
   "outputs": [
    {
     "data": {
      "text/plain": [
       "id              0\n",
       "name            0\n",
       "Country         0\n",
       "city            0\n",
       "rating          0\n",
       "rating_count    0\n",
       "cuisine         0\n",
       "link            0\n",
       "address         0\n",
       "dtype: int64"
      ]
     },
     "execution_count": 33,
     "metadata": {},
     "output_type": "execute_result"
    }
   ],
   "source": [
    "Restaurant.isnull().sum()"
   ]
  },
  {
   "cell_type": "code",
   "execution_count": 34,
   "metadata": {
    "execution": {
     "iopub.execute_input": "2025-07-16T18:17:10.180851Z",
     "iopub.status.busy": "2025-07-16T18:17:10.180591Z",
     "iopub.status.idle": "2025-07-16T18:17:10.200508Z",
     "shell.execute_reply": "2025-07-16T18:17:10.199749Z",
     "shell.execute_reply.started": "2025-07-16T18:17:10.180832Z"
    },
    "trusted": true
   },
   "outputs": [
    {
     "data": {
      "text/plain": [
       "Order_Id    0\n",
       "Type        0\n",
       "dtype: int64"
      ]
     },
     "execution_count": 34,
     "metadata": {},
     "output_type": "execute_result"
    }
   ],
   "source": [
    "Orders_Type.isnull().sum()"
   ]
  },
  {
   "cell_type": "code",
   "execution_count": 35,
   "metadata": {
    "execution": {
     "iopub.execute_input": "2025-07-16T18:17:15.821987Z",
     "iopub.status.busy": "2025-07-16T18:17:15.821450Z",
     "iopub.status.idle": "2025-07-16T18:17:15.847628Z",
     "shell.execute_reply": "2025-07-16T18:17:15.846912Z",
     "shell.execute_reply.started": "2025-07-16T18:17:15.821966Z"
    },
    "trusted": true
   },
   "outputs": [
    {
     "data": {
      "text/plain": [
       "user_id           0\n",
       "name              0\n",
       "Age               0\n",
       "Gender            0\n",
       "Marital Status    0\n",
       "Occupation        0\n",
       "dtype: int64"
      ]
     },
     "execution_count": 35,
     "metadata": {},
     "output_type": "execute_result"
    }
   ],
   "source": [
    "Users.isnull().sum()"
   ]
  },
  {
   "cell_type": "markdown",
   "metadata": {},
   "source": [
    "# Formating the Tables"
   ]
  },
  {
   "cell_type": "code",
   "execution_count": 36,
   "metadata": {
    "execution": {
     "iopub.execute_input": "2025-07-16T18:17:24.385540Z",
     "iopub.status.busy": "2025-07-16T18:17:24.385279Z",
     "iopub.status.idle": "2025-07-16T18:17:24.390411Z",
     "shell.execute_reply": "2025-07-16T18:17:24.389852Z",
     "shell.execute_reply.started": "2025-07-16T18:17:24.385521Z"
    },
    "trusted": true
   },
   "outputs": [
    {
     "data": {
      "text/plain": [
       "Index(['f_id', 'item', 'veg_or_non_veg'], dtype='object')"
      ]
     },
     "execution_count": 36,
     "metadata": {},
     "output_type": "execute_result"
    }
   ],
   "source": [
    "Food.columns"
   ]
  },
  {
   "cell_type": "code",
   "execution_count": 37,
   "metadata": {
    "execution": {
     "iopub.execute_input": "2025-07-16T18:17:31.696261Z",
     "iopub.status.busy": "2025-07-16T18:17:31.695491Z",
     "iopub.status.idle": "2025-07-16T18:17:31.702321Z",
     "shell.execute_reply": "2025-07-16T18:17:31.701576Z",
     "shell.execute_reply.started": "2025-07-16T18:17:31.696230Z"
    },
    "trusted": true
   },
   "outputs": [
    {
     "data": {
      "text/plain": [
       "Index(['Food_id', 'Item', 'Food_Type'], dtype='object')"
      ]
     },
     "execution_count": 37,
     "metadata": {},
     "output_type": "execute_result"
    }
   ],
   "source": [
    "Food.rename(columns={\"f_id\":\"Food_id\",\"veg_or_non_veg\":\"Food_Type\",\"item\":\"Item\"},inplace=True)\n",
    "Food.columns"
   ]
  },
  {
   "cell_type": "code",
   "execution_count": 38,
   "metadata": {
    "execution": {
     "iopub.execute_input": "2025-07-16T18:17:34.879185Z",
     "iopub.status.busy": "2025-07-16T18:17:34.878927Z",
     "iopub.status.idle": "2025-07-16T18:17:34.884192Z",
     "shell.execute_reply": "2025-07-16T18:17:34.883496Z",
     "shell.execute_reply.started": "2025-07-16T18:17:34.879167Z"
    },
    "trusted": true
   },
   "outputs": [
    {
     "data": {
      "text/plain": [
       "Index(['menu_id', 'r_id', 'f_id', 'cuisine', 'price'], dtype='object')"
      ]
     },
     "execution_count": 38,
     "metadata": {},
     "output_type": "execute_result"
    }
   ],
   "source": [
    "Menu.columns"
   ]
  },
  {
   "cell_type": "code",
   "execution_count": 39,
   "metadata": {
    "execution": {
     "iopub.execute_input": "2025-07-16T18:17:40.443981Z",
     "iopub.status.busy": "2025-07-16T18:17:40.443492Z",
     "iopub.status.idle": "2025-07-16T18:17:40.449562Z",
     "shell.execute_reply": "2025-07-16T18:17:40.448813Z",
     "shell.execute_reply.started": "2025-07-16T18:17:40.443959Z"
    },
    "trusted": true
   },
   "outputs": [
    {
     "data": {
      "text/plain": [
       "Index(['Menu_id', 'Restaurant_id', 'Food_id', 'Cuisine', 'Price'], dtype='object')"
      ]
     },
     "execution_count": 39,
     "metadata": {},
     "output_type": "execute_result"
    }
   ],
   "source": [
    "Menu.rename(columns={\"menu_id\":\"Menu_id\",\"r_id\":\"Restaurant_id\",\n",
    "                     \"f_id\":\"Food_id\",\"cuisine\":\"Cuisine\",\"price\":\"Price\"}, inplace=True)\n",
    "Menu.columns"
   ]
  },
  {
   "cell_type": "code",
   "execution_count": 40,
   "metadata": {
    "execution": {
     "iopub.execute_input": "2025-07-16T18:17:43.932284Z",
     "iopub.status.busy": "2025-07-16T18:17:43.932029Z",
     "iopub.status.idle": "2025-07-16T18:17:43.937258Z",
     "shell.execute_reply": "2025-07-16T18:17:43.936510Z",
     "shell.execute_reply.started": "2025-07-16T18:17:43.932266Z"
    },
    "trusted": true
   },
   "outputs": [
    {
     "data": {
      "text/plain": [
       "Index(['order_date', 'sales_qty', 'sales_amount', 'currency', 'user_id',\n",
       "       'r_id'],\n",
       "      dtype='object')"
      ]
     },
     "execution_count": 40,
     "metadata": {},
     "output_type": "execute_result"
    }
   ],
   "source": [
    "Orders.columns"
   ]
  },
  {
   "cell_type": "code",
   "execution_count": 41,
   "metadata": {
    "execution": {
     "iopub.execute_input": "2025-07-16T18:17:49.167360Z",
     "iopub.status.busy": "2025-07-16T18:17:49.166705Z",
     "iopub.status.idle": "2025-07-16T18:17:49.173176Z",
     "shell.execute_reply": "2025-07-16T18:17:49.172191Z",
     "shell.execute_reply.started": "2025-07-16T18:17:49.167339Z"
    },
    "trusted": true
   },
   "outputs": [
    {
     "data": {
      "text/plain": [
       "Index(['order_date', 'Sales_QTY', 'Sales_amount', 'currency', 'User_id',\n",
       "       'Restaurant_id'],\n",
       "      dtype='object')"
      ]
     },
     "execution_count": 41,
     "metadata": {},
     "output_type": "execute_result"
    }
   ],
   "source": [
    "Orders.rename(columns={\"order_Date\":\"Order_date\",\"sales_qty\":\"Sales_QTY\",\"sales_amount\":\"Sales_amount\",\n",
    "                       \"Currency\":\"Currency\",\"user_id\":\"User_id\",\"r_id\":\"Restaurant_id\"}, inplace=True)\n",
    "Orders.columns"
   ]
  },
  {
   "cell_type": "code",
   "execution_count": 42,
   "metadata": {
    "execution": {
     "iopub.execute_input": "2025-07-16T18:17:52.217938Z",
     "iopub.status.busy": "2025-07-16T18:17:52.217291Z",
     "iopub.status.idle": "2025-07-16T18:17:52.223075Z",
     "shell.execute_reply": "2025-07-16T18:17:52.222324Z",
     "shell.execute_reply.started": "2025-07-16T18:17:52.217907Z"
    },
    "trusted": true
   },
   "outputs": [
    {
     "data": {
      "text/plain": [
       "Index(['id', 'name', 'Country', 'city', 'rating', 'rating_count', 'cuisine',\n",
       "       'link', 'address'],\n",
       "      dtype='object')"
      ]
     },
     "execution_count": 42,
     "metadata": {},
     "output_type": "execute_result"
    }
   ],
   "source": [
    "Restaurant.columns"
   ]
  },
  {
   "cell_type": "code",
   "execution_count": 43,
   "metadata": {
    "execution": {
     "iopub.execute_input": "2025-07-16T18:17:58.087630Z",
     "iopub.status.busy": "2025-07-16T18:17:58.086972Z",
     "iopub.status.idle": "2025-07-16T18:17:58.093412Z",
     "shell.execute_reply": "2025-07-16T18:17:58.092902Z",
     "shell.execute_reply.started": "2025-07-16T18:17:58.087608Z"
    },
    "trusted": true
   },
   "outputs": [
    {
     "data": {
      "text/plain": [
       "Index(['Restaurant_id', 'Name', 'Country', 'City', 'Rating', 'Rating_count',\n",
       "       'Cuisine', 'Link', 'Address'],\n",
       "      dtype='object')"
      ]
     },
     "execution_count": 43,
     "metadata": {},
     "output_type": "execute_result"
    }
   ],
   "source": [
    "Restaurant.rename(columns={\"id\":\"Restaurant_id\",\"name\":\"Name\",\"city\":\"City\",\n",
    "                           \"rating\":\"Rating\",\"rating_count\":\"Rating_count\",\"cuisine\":\"Cuisine\",\"link\":\"Link\",\"address\":\"Address\"},\n",
    "                           inplace=True)\n",
    "Restaurant.columns"
   ]
  },
  {
   "cell_type": "code",
   "execution_count": 44,
   "metadata": {
    "execution": {
     "iopub.execute_input": "2025-07-16T18:18:23.676778Z",
     "iopub.status.busy": "2025-07-16T18:18:23.676252Z",
     "iopub.status.idle": "2025-07-16T18:18:23.682232Z",
     "shell.execute_reply": "2025-07-16T18:18:23.681533Z",
     "shell.execute_reply.started": "2025-07-16T18:18:23.676751Z"
    },
    "trusted": true
   },
   "outputs": [
    {
     "data": {
      "text/plain": [
       "Index(['user_id', 'name', 'Age', 'Gender', 'Marital Status', 'Occupation'], dtype='object')"
      ]
     },
     "execution_count": 44,
     "metadata": {},
     "output_type": "execute_result"
    }
   ],
   "source": [
    "Users.columns"
   ]
  },
  {
   "cell_type": "code",
   "execution_count": 45,
   "metadata": {
    "execution": {
     "iopub.execute_input": "2025-07-16T18:18:32.296178Z",
     "iopub.status.busy": "2025-07-16T18:18:32.295629Z",
     "iopub.status.idle": "2025-07-16T18:18:32.301032Z",
     "shell.execute_reply": "2025-07-16T18:18:32.300436Z",
     "shell.execute_reply.started": "2025-07-16T18:18:32.296155Z"
    },
    "trusted": true
   },
   "outputs": [
    {
     "data": {
      "text/plain": [
       "Index(['User_id', 'Name', 'Age', 'Gender', 'Marital Status', 'Occupation'], dtype='object')"
      ]
     },
     "execution_count": 45,
     "metadata": {},
     "output_type": "execute_result"
    }
   ],
   "source": [
    "Users.rename(columns={\"user_id\":\"User_id\",\"name\":\"Name\"}, inplace=True)\n",
    "Users.columns"
   ]
  },
  {
   "cell_type": "code",
   "execution_count": 46,
   "metadata": {
    "execution": {
     "iopub.execute_input": "2025-07-16T18:18:38.165096Z",
     "iopub.status.busy": "2025-07-16T18:18:38.164391Z",
     "iopub.status.idle": "2025-07-16T18:18:38.188395Z",
     "shell.execute_reply": "2025-07-16T18:18:38.187676Z",
     "shell.execute_reply.started": "2025-07-16T18:18:38.165072Z"
    },
    "trusted": true
   },
   "outputs": [],
   "source": [
    "Restaurant.drop(columns=[\"Link\",\"Address\"], axis=1, inplace=True)"
   ]
  },
  {
   "cell_type": "code",
   "execution_count": 47,
   "metadata": {
    "execution": {
     "iopub.execute_input": "2025-07-16T18:18:39.866075Z",
     "iopub.status.busy": "2025-07-16T18:18:39.865313Z",
     "iopub.status.idle": "2025-07-16T18:18:39.873991Z",
     "shell.execute_reply": "2025-07-16T18:18:39.873232Z",
     "shell.execute_reply.started": "2025-07-16T18:18:39.866050Z"
    },
    "trusted": true
   },
   "outputs": [
    {
     "data": {
      "text/html": [
       "<div>\n",
       "<style scoped>\n",
       "    .dataframe tbody tr th:only-of-type {\n",
       "        vertical-align: middle;\n",
       "    }\n",
       "\n",
       "    .dataframe tbody tr th {\n",
       "        vertical-align: top;\n",
       "    }\n",
       "\n",
       "    .dataframe thead th {\n",
       "        text-align: right;\n",
       "    }\n",
       "</style>\n",
       "<table border=\"1\" class=\"dataframe\">\n",
       "  <thead>\n",
       "    <tr style=\"text-align: right;\">\n",
       "      <th></th>\n",
       "      <th>Restaurant_id</th>\n",
       "      <th>Name</th>\n",
       "      <th>Country</th>\n",
       "      <th>City</th>\n",
       "      <th>Rating</th>\n",
       "      <th>Rating_count</th>\n",
       "      <th>Cuisine</th>\n",
       "    </tr>\n",
       "  </thead>\n",
       "  <tbody>\n",
       "    <tr>\n",
       "      <th>0</th>\n",
       "      <td>567335</td>\n",
       "      <td>AB FOODS POINT</td>\n",
       "      <td>India</td>\n",
       "      <td>Abohar</td>\n",
       "      <td>--</td>\n",
       "      <td>Too Few Ratings</td>\n",
       "      <td>Beverages,Pizzas</td>\n",
       "    </tr>\n",
       "    <tr>\n",
       "      <th>1</th>\n",
       "      <td>531342</td>\n",
       "      <td>Janta Sweet House</td>\n",
       "      <td>India</td>\n",
       "      <td>Abohar</td>\n",
       "      <td>4.4</td>\n",
       "      <td>50+ ratings</td>\n",
       "      <td>Sweets,Bakery</td>\n",
       "    </tr>\n",
       "  </tbody>\n",
       "</table>\n",
       "</div>"
      ],
      "text/plain": [
       "   Restaurant_id               Name Country    City Rating     Rating_count  \\\n",
       "0         567335     AB FOODS POINT   India  Abohar     --  Too Few Ratings   \n",
       "1         531342  Janta Sweet House   India  Abohar    4.4      50+ ratings   \n",
       "\n",
       "            Cuisine  \n",
       "0  Beverages,Pizzas  \n",
       "1     Sweets,Bakery  "
      ]
     },
     "execution_count": 47,
     "metadata": {},
     "output_type": "execute_result"
    }
   ],
   "source": [
    "Restaurant.head(2)"
   ]
  },
  {
   "cell_type": "code",
   "execution_count": 48,
   "metadata": {
    "execution": {
     "iopub.execute_input": "2025-07-16T18:18:43.117606Z",
     "iopub.status.busy": "2025-07-16T18:18:43.117346Z",
     "iopub.status.idle": "2025-07-16T18:18:43.121143Z",
     "shell.execute_reply": "2025-07-16T18:18:43.120379Z",
     "shell.execute_reply.started": "2025-07-16T18:18:43.117588Z"
    },
    "trusted": true
   },
   "outputs": [],
   "source": [
    "del Orders_Type"
   ]
  },
  {
   "cell_type": "markdown",
   "metadata": {},
   "source": [
    "# Store the Dataset into the System"
   ]
  },
  {
   "cell_type": "code",
   "execution_count": null,
   "metadata": {
    "execution": {
     "iopub.execute_input": "2025-07-16T18:21:03.309802Z",
     "iopub.status.busy": "2025-07-16T18:21:03.309098Z",
     "iopub.status.idle": "2025-07-16T18:21:07.388054Z",
     "shell.execute_reply": "2025-07-16T18:21:07.387361Z",
     "shell.execute_reply.started": "2025-07-16T18:21:03.309781Z"
    },
    "trusted": true
   },
   "outputs": [
    {
     "name": "stdout",
     "output_type": "stream",
     "text": [
      "Files saved to /kaggle/working/\n"
     ]
    }
   ],
   "source": [
    "output_dir = './clean'\n",
    "Food.to_csv(output_dir + 'Food.csv', index=False)\n",
    "Menu.to_csv(output_dir + 'Menu.csv', index=False)\n",
    "Orders.to_csv(output_dir + 'Orders.csv', index=False)\n",
    "Restaurant.to_csv(output_dir + 'Restaurant.csv', index=False)\n",
    "Users.to_csv(output_dir + 'Users.csv', index=False)\n",
    "print(\"Files saved to /kaggle/working/\")"
   ]
  },
  {
   "cell_type": "markdown",
   "metadata": {},
   "source": [
    "#                                  Thank You"
   ]
  }
 ],
 "metadata": {
  "kaggle": {
   "accelerator": "nvidiaTeslaT4",
   "dataSources": [
    {
     "datasetId": 7882072,
     "sourceId": 12490412,
     "sourceType": "datasetVersion"
    }
   ],
   "dockerImageVersionId": 31090,
   "isGpuEnabled": true,
   "isInternetEnabled": true,
   "language": "python",
   "sourceType": "notebook"
  },
  "kernelspec": {
   "display_name": "Python 3",
   "language": "python",
   "name": "python3"
  },
  "language_info": {
   "codemirror_mode": {
    "name": "ipython",
    "version": 3
   },
   "file_extension": ".py",
   "mimetype": "text/x-python",
   "name": "python",
   "nbconvert_exporter": "python",
   "pygments_lexer": "ipython3",
   "version": "3.11.13"
  }
 },
 "nbformat": 4,
 "nbformat_minor": 4
}
